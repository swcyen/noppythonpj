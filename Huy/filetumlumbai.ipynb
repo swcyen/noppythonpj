{
 "cells": [
  {
   "attachments": {},
   "cell_type": "markdown",
   "metadata": {},
   "source": [
    "Huong dan doc file csv"
   ]
  },
  {
   "cell_type": "code",
   "execution_count": null,
   "metadata": {},
   "outputs": [],
   "source": [
    "import pandas as pd\n",
    "import numpy as np\n",
    "import matplotlib.pyplot as plt\n",
    "import seaborn as sns\n",
    "import os\n",
    "%matplotlib inline"
   ]
  },
  {
   "cell_type": "code",
   "execution_count": null,
   "metadata": {},
   "outputs": [],
   "source": [
    "\n",
    "df=pd.read_csv('')"
   ]
  },
  {
   "attachments": {},
   "cell_type": "markdown",
   "metadata": {},
   "source": [
    "huong dan add header cho file csv"
   ]
  },
  {
   "cell_type": "code",
   "execution_count": null,
   "metadata": {},
   "outputs": [],
   "source": [
    "df = pd.read_csv(\"\"file.csv\"\", header=None, index_col=None)\n",
    "df.columns = ['Cliente', 'Fecha', 'Data', 'Numbers', 'Info', 'Numbers2', 'Analisys']\n",
    "df.to_csv(\"\"file.csv\"\", index=False)"
   ]
  },
  {
   "attachments": {},
   "cell_type": "markdown",
   "metadata": {},
   "source": [
    "Xoa fle csv"
   ]
  },
  {
   "cell_type": "code",
   "execution_count": null,
   "metadata": {},
   "outputs": [],
   "source": [
    "os.remove('Entityy.csv')"
   ]
  },
  {
   "cell_type": "code",
   "execution_count": null,
   "metadata": {},
   "outputs": [],
   "source": [
    "def is_prime(n):\n",
    "    if n <= 1:\n",
    "        return False\n",
    "    for i in range(2, n):\n",
    "        if n % i == 0:\n",
    "            return False\n",
    "    return True"
   ]
  },
  {
   "attachments": {},
   "cell_type": "markdown",
   "metadata": {},
   "source": [
    " head( [n] ), tail( [n] )\n",
    "first/last n rows\n",
    "describe()\n",
    "generate descriptive statistics (for numeric columns only)\n",
    "max(), min()\n",
    "return max/min values for all numeric columns\n",
    "mean(), median()\n",
    "return mean/median values for all numeric columns\n",
    "std()\n",
    "standard deviation\n",
    "sample([n])\n",
    "returns a random sample of the data frame\n",
    "dropna()\n",
    "drop all the records with missing values\n",
    " dtypes\n",
    "list the types of the columns\n",
    "columns\n",
    "list the column names\n",
    "axes\n",
    "list the row labels and column names\n",
    "ndim\n",
    "number of dimensions\n",
    "size\n",
    "number of elements \n",
    "shape\n",
    "return a tuple representing the dimensionality \n",
    "values\n",
    "numpy representation of the data\n",
    " dropna()\n",
    "Drop missing observations\n",
    "dropna(how='all')\n",
    "Drop observations where all cells is NA\n",
    "dropna(axis=1, how='all')\n",
    "Drop column if all the values are missing\n",
    "dropna(thresh = 5)\n",
    "Drop rows that contain less than 5 non-missing values\n",
    "fillna(0)\n",
    "Replace missing values with zeros\n",
    "isnull()\n",
    "returns True if the value is missing\n",
    "notnull()\n",
    "Returns True for non-missing values\n",
    " describe\n",
    "Basic statistics (count, mean, std, min, quantiles, max)\n",
    "min, max\n",
    "Minimum and maximum values\n",
    "mean, median, mode\n",
    "Arithmetic average, median and mode\n",
    "var, std\n",
    "Variance and standard deviation\n",
    "sem\n",
    "Standard error of mean\n",
    "skew\n",
    "Sample skewness\n",
    "kurt\n",
    "kurtosis\n",
    " distplot\n",
    "histogram\n",
    "barplot\n",
    "estimate of central tendency for a numeric variable\n",
    "violinplot\n",
    " similar to boxplot, also shows the probability density of the data\n",
    "jointplot\n",
    "Scatterplot\n",
    "regplot\n",
    "Regression plot\n",
    "pairplot\n",
    "Pairplot\n",
    "boxplot\n",
    "boxplot\n",
    "swarmplot\n",
    "categorical scatterplot\n",
    "crabplot\n",
    "General categorical plot\n"
   ]
  },
  {
   "attachments": {},
   "cell_type": "markdown",
   "metadata": {},
   "source": [
    "1 create 2 matrix \n",
    "A,B\n",
    "and 2 vector\n",
    "y,z"
   ]
  },
  {
   "cell_type": "code",
   "execution_count": null,
   "metadata": {},
   "outputs": [],
   "source": [
    "B = np.array([[1,2,-3],[3,4,-1]])\n",
    "A = np.array([[2,-5,1],[1,4,5],[2,-1,6]])\n",
    "y = np.array([[2],[-4],[1]])\n",
    "z = np.array([[-15],[-8],[-22]])\n",
    "print(z)\n",
    "print(y)\n",
    "print(B)\n",
    "print(A)"
   ]
  },
  {
   "attachments": {},
   "cell_type": "markdown",
   "metadata": {},
   "source": [
    "2 provide numpy code that calculates and prints each of the quantities below."
   ]
  },
  {
   "cell_type": "code",
   "execution_count": null,
   "metadata": {},
   "outputs": [],
   "source": [
    "\n",
    "• BA\n",
    "• AB T\n",
    "• Ay\n",
    "• y T z (This is the inner product, or dot product, of y and z.)\n",
    "• yz T (This is the outer product of y and z.)\n",
    "BA = B @ A\n",
    "ABT = A @ B.T\n",
    "yTz = np.dot(y.T, z)\n",
    "yzT = np.outer(z, y.T)\n",
    "print(BA)\n",
    "print(ABT)\n",
    "print(yTz)\n",
    "print(yzT)"
   ]
  },
  {
   "attachments": {},
   "cell_type": "markdown",
   "metadata": {},
   "source": [
    "\n",
    "3. Complete the function solve_for_x(A, z) so that it matches the documenation. Test\n",
    "your function by uncommenting the appropriate lines in main. (The command for\n",
    "matrix inverse in numpy is np.linalg.inv().)"
   ]
  },
  {
   "cell_type": "code",
   "execution_count": null,
   "metadata": {},
   "outputs": [],
   "source": [
    "def solve_for_x(A, z):\n",
    "    \"\"\" Solve the equation Ax = z and return the vector x. \"\"\"\n",
    "    return np.dot(np.linalg.inv(A),z)\n",
    "solve_for_x(A,z)"
   ]
  },
  {
   "attachments": {},
   "cell_type": "markdown",
   "metadata": {},
   "source": [
    "4. Complete the functions print_rows and print_cols. each method should use array slicing to print each row (or column) to a separate line. Test your functions by\n",
    "uncommenting the appropriate lines in main."
   ]
  },
  {
   "cell_type": "code",
   "execution_count": null,
   "metadata": {},
   "outputs": [],
   "source": [
    "def print_rows(arr):\n",
    "    for i in range(arr.shape[0]):\n",
    "        col = arr[i,:]\n",
    "        print(col)\n",
    "def print_cols(arr):\n",
    "    for i in range(arr.shape[1]):\n",
    "        col = arr[:, i]\n",
    "        print(col)\n",
    "print_rows(A)\n",
    "print_rows(B)\n",
    "print_cols(A)\n",
    "print_cols(B)"
   ]
  },
  {
   "attachments": {},
   "cell_type": "markdown",
   "metadata": {},
   "source": [
    "5 Complete the function squared_error(X, w, y)."
   ]
  },
  {
   "attachments": {},
   "cell_type": "markdown",
   "metadata": {},
   "source": [
    "\n",
    "def squared_loss_error(X,w,y):\n",
    "    return(np.sum((np.dot(X,w.T)- y) ** 2))"
   ]
  },
  {
   "cell_type": "code",
   "execution_count": null,
   "metadata": {},
   "outputs": [],
   "source": [
    "define some varible"
   ]
  },
  {
   "cell_type": "code",
   "execution_count": null,
   "metadata": {},
   "outputs": [],
   "source": [
    "X = np.array([[-1, 1, 0], [-2, 2, 3]])\n",
    "w = np.array([1, 1, 1])\n",
    "y = np.array([1, 2])"
   ]
  },
  {
   "attachments": {},
   "cell_type": "markdown",
   "metadata": {},
   "source": [
    "run the code"
   ]
  },
  {
   "cell_type": "code",
   "execution_count": null,
   "metadata": {},
   "outputs": [],
   "source": [
    "print(squared_loss_error(X,w,y))"
   ]
  },
  {
   "cell_type": "code",
   "execution_count": null,
   "metadata": {},
   "outputs": [],
   "source": [
    "x = np.array([1, 2, 3, 4, 5, 6, 7, 8, 9, 10])\n",
    "print(x.dtype)\n",
    "print(x.shape)"
   ]
  },
  {
   "cell_type": "code",
   "execution_count": null,
   "metadata": {},
   "outputs": [],
   "source": [
    "y = np.pi/2 - x\n",
    "z = np.cos(x) - np.sin(x)\n",
    "print(y)\n",
    "print(z)"
   ]
  },
  {
   "cell_type": "code",
   "execution_count": null,
   "metadata": {},
   "outputs": [],
   "source": [
    "even_nums = x[x % 2 == 0]\n",
    "odd_nums = x[x % 2 == 1]\n",
    "prime_nums = x[np.vectorize(is_prime)(x)]\n",
    "print(even_nums)\n",
    "print(odd_nums)\n",
    "print(prime_nums)"
   ]
  },
  {
   "cell_type": "code",
   "execution_count": null,
   "metadata": {},
   "outputs": [],
   "source": [
    "x = np.where(x % 2 != 0, -2,-1)\n",
    "print(x)"
   ]
  },
  {
   "cell_type": "code",
   "execution_count": null,
   "metadata": {},
   "outputs": [],
   "source": [
    "x = np.array([3, 1, 4, 2, 5])\n",
    "\n",
    "min_val = x.min()\n",
    "max_val = x.max()\n",
    "min_idx = x.argmin()\n",
    "max_idx = x.argmax()\n",
    "\n",
    "print(\"Minimum value:\", min_val)\n",
    "print(\"Maximum value:\", max_val)\n",
    "print(\"Index of minimum value:\", min_idx)\n",
    "print(\"Index of maximum value:\", max_idx)"
   ]
  },
  {
   "cell_type": "code",
   "execution_count": null,
   "metadata": {},
   "outputs": [],
   "source": [
    "x = np.array([[1, 2, 3, 4, 5],\n",
    "              [6, 7, 8, 9, 10],\n",
    "              [11, 12, 13, 14, 15]])"
   ]
  },
  {
   "cell_type": "code",
   "execution_count": null,
   "metadata": {},
   "outputs": [],
   "source": [
    "row_sums = x.sum(axis=1)\n",
    "col_sums = x.sum(axis=0)\n",
    "\n",
    "print(\"Row sums:\", row_sums)\n",
    "print(\"Column sums:\", col_sums)"
   ]
  },
  {
   "cell_type": "code",
   "execution_count": null,
   "metadata": {},
   "outputs": [],
   "source": [
    "row_mins = x.min(axis=1)\n",
    "row_maxs = x.max(axis=1)\n",
    "col_mins = x.min(axis=0)\n",
    "col_maxs = x.max(axis=0)\n",
    "\n",
    "print(\"Minimum value of each row:\", row_mins)\n",
    "print(\"Maximum value of each row:\", row_maxs)\n",
    "print(\"Minimum value of each column:\", col_mins)\n",
    "print(\"Maximum value of each column:\", col_maxs)"
   ]
  },
  {
   "cell_type": "code",
   "execution_count": null,
   "metadata": {},
   "outputs": [],
   "source": [
    "even = x[x % 2 == 0]\n",
    "odd = x[x % 2 == 1]\n",
    "\n",
    "print(\"Even numbers:\", even)\n",
    "print(\"Odd numbers:\", odd)"
   ]
  },
  {
   "cell_type": "code",
   "execution_count": null,
   "metadata": {},
   "outputs": [],
   "source": [
    "even_col_means = x[:, ::2].mean(axis=0)\n",
    "\n",
    "print(\"Mean of columns with even indices:\", even_col_means)"
   ]
  },
  {
   "cell_type": "code",
   "execution_count": null,
   "metadata": {},
   "outputs": [],
   "source": [
    "even_indices_sum = x[::2, ::2].sum()\n",
    "\n",
    "print(\"Sum of elements with even indices:\", even_indices_sum)"
   ]
  },
  {
   "cell_type": "code",
   "execution_count": null,
   "metadata": {},
   "outputs": [],
   "source": [
    "row_ranges = x.ptp(axis=1)\n",
    "\n",
    "print(\"Range of each row:\", row_ranges)"
   ]
  },
  {
   "cell_type": "code",
   "execution_count": null,
   "metadata": {},
   "outputs": [],
   "source": [
    "x = np.array([[1, 2, 3, 4, 5],\n",
    "              [6, 7, 8, 9, 10],\n",
    "              [11, 12, 13, 14, 15],\n",
    "              [16, 17, 18, 19, 20],\n",
    "              [21, 22, 23, 24, 25]])"
   ]
  },
  {
   "cell_type": "code",
   "execution_count": null,
   "metadata": {},
   "outputs": [],
   "source": [
    "main_diag_sum = x.diagonal().sum()\n",
    "secondary_diag_sum = np.fliplr(x).diagonal().sum()\n",
    "\n",
    "print(\"Sum of elements on main diagonal:\", main_diag_sum)\n",
    "print(\"Sum of elements on secondary diagonal:\", secondary_diag_sum)"
   ]
  },
  {
   "cell_type": "code",
   "execution_count": null,
   "metadata": {},
   "outputs": [],
   "source": [
    "\n",
    "main_diag_min = x.diagonal().min()\n",
    "main_diag_max = x.diagonal().max()\n",
    "secondary_diag_min = np.fliplr(x).diagonal().min()\n",
    "secondary_diag_max = np.fliplr(x).diagonal().max()\n",
    "\n",
    "print(\"Minimum value on main diagonal:\", main_diag_min)\n",
    "print(\"Maximum value on main diagonal:\", main_diag_max)\n",
    "print(\"Minimum value on secondary diagonal:\", secondary_diag_min)\n",
    "print(\"Maximum value on secondary diagonal:\", secondary_diag_max)"
   ]
  },
  {
   "cell_type": "code",
   "execution_count": null,
   "metadata": {},
   "outputs": [],
   "source": [
    "data = {'Animal': ['Tiger', 'Lion', 'Cat', 'Whale'], 'Weight': [258.5, 320.2, 3.3, 41000], 'Average Age': [16, 15, 12, 33]}\n",
    "\n",
    "df = pd.DataFrame(data, index=['Data 1', 'Data 2', 'Data 3', 'Data 4'])\n",
    "\n",
    "print(df)"
   ]
  },
  {
   "cell_type": "code",
   "execution_count": null,
   "metadata": {},
   "outputs": [],
   "source": [
    "max_weight = df['Weight'].max()\n",
    "min_weight = df['Weight'].min()\n",
    "\n",
    "print('Animal with max weight:', df.loc[df['Weight'] == max_weight, 'Animal'].values[0])\n",
    "print('Animal with min weight:', df.loc[df['Weight'] == min_weight, 'Animal'].values[0])"
   ]
  },
  {
   "cell_type": "code",
   "execution_count": null,
   "metadata": {},
   "outputs": [],
   "source": [
    "max_age = df['Average Age'].max()\n",
    "min_age = df['Average Age'].min()\n",
    "\n",
    "print('Animal with max age:', df.loc[df['Average Age'] == max_age, 'Animal'].values[0])\n",
    "print('Animal with min age:', df.loc[df['Average Age'] == min_age, 'Animal'].values[0])"
   ]
  },
  {
   "cell_type": "code",
   "execution_count": null,
   "metadata": {},
   "outputs": [],
   "source": [
    "new_df = df.loc[['Data 1', 'Data 4'], ['Animal', 'Weight']]\n",
    "print(new_df)"
   ]
  },
  {
   "cell_type": "code",
   "execution_count": null,
   "metadata": {},
   "outputs": [],
   "source": [
    "max_weight = df['Weight'].max()\n",
    "min_weight = df['Weight'].min()\n",
    "\n",
    "print('Max weight:', max_weight)\n",
    "print('Min weight:', min_weight)"
   ]
  },
  {
   "cell_type": "code",
   "execution_count": null,
   "metadata": {},
   "outputs": [],
   "source": [
    "mean_age = df['Average Age'].mean()\n",
    "print('Mean age:', mean_age)"
   ]
  },
  {
   "cell_type": "code",
   "execution_count": null,
   "metadata": {},
   "outputs": [],
   "source": [
    "print('First two rows:')\n",
    "print(df.head(2))\n",
    "\n",
    "print('Last two rows:')\n",
    "print(df.tail(2))"
   ]
  },
  {
   "cell_type": "code",
   "execution_count": null,
   "metadata": {},
   "outputs": [],
   "source": [
    "animals = df.loc[df['Average Age'] > 15, 'Animal']\n",
    "for animal in animals:\n",
    "    print(animal)"
   ]
  },
  {
   "cell_type": "code",
   "execution_count": null,
   "metadata": {},
   "outputs": [],
   "source": [
    "animals = df.loc[df['Weight'] < 300, 'Animal']\n",
    "for animal in animals:\n",
    "    print(animal)"
   ]
  },
  {
   "cell_type": "code",
   "execution_count": null,
   "metadata": {},
   "outputs": [],
   "source": [
    "data = {'Name': ['Grapefruit', 'Coconut', 'Watermelon', 'Banana', 'Dragon fruit'],\n",
    "        'Origin': ['Long An', 'Ben Tre', 'Long An', 'Ben Tre', 'Long An'],\n",
    "        'Price': [5.5, 10.2, 6.7, 2.5, 7.5]}\n",
    "df = pd.DataFrame(data)\n",
    "print(df)"
   ]
  },
  {
   "cell_type": "code",
   "execution_count": null,
   "metadata": {},
   "outputs": [],
   "source": [
    "max_price = df['Price'].max()\n",
    "min_price = df['Price'].min()\n",
    "print('Tên loại trái cây có giá tiền lớn nhất:', df.loc[df['Price'] == max_price, 'Name'].values[0])\n",
    "print('Tên loại trái cây có giá tiền nhỏ nhất:', df.loc[df['Price'] == min_price, 'Name'].values[0])"
   ]
  },
  {
   "cell_type": "code",
   "execution_count": null,
   "metadata": {},
   "outputs": [],
   "source": [
    "print('Các loại trái cây có xuất xứ tại Ben Tre:', df.loc[df['Origin'] == 'Ben Tre', 'Name'].values)"
   ]
  },
  {
   "cell_type": "code",
   "execution_count": null,
   "metadata": {},
   "outputs": [],
   "source": [
    "new_df = df.loc[[1, 4], ['Name', 'Price']]\n",
    "print(new_df)"
   ]
  },
  {
   "cell_type": "code",
   "execution_count": null,
   "metadata": {},
   "outputs": [],
   "source": [
    "print('Giá trị lớn nhất của cột dữ liệu Price:', max_price)\n",
    "print('Giá trị nhỏ nhất của cột dữ liệu Price:', min_price)\n",
    "print('Giá trị trung bình của cột dữ liệu Price:', df['Price'].mean())"
   ]
  },
  {
   "cell_type": "code",
   "execution_count": null,
   "metadata": {},
   "outputs": [],
   "source": [
    "\n",
    "ben_tre_df = df.loc[df['Origin'] == 'Ben Tre']\n",
    "max_price_ben_tre = ben_tre_df['Price'].max()\n",
    "print('Loại trái cây có xuất xứ tại Ben Tre và có giá tiền cao nhất:', ben_tre_df.loc[ben_tre_df['Price'] == max_price_ben_tre, 'Name'].values[0])\n"
   ]
  },
  {
   "cell_type": "code",
   "execution_count": null,
   "metadata": {},
   "outputs": [],
   "source": [
    "long_an_df = df.loc[df['Origin'] == 'Long An']\n",
    "min_price_long_an = long_an_df['Price'].min()\n",
    "print('Loại trái cây có xuất xứ tại Long An và có giá tiền thấp nhất:', long_an_df.loc[long_an_df['Price'] == min_price_long_an, 'Name'].values[0])\n"
   ]
  },
  {
   "cell_type": "code",
   "execution_count": null,
   "metadata": {},
   "outputs": [],
   "source": [
    "\n",
    "print('Tổng giá tiền của các loại trái cây có xuất xứ tại Long An:', long_an_df['Price'].sum())"
   ]
  },
  {
   "cell_type": "code",
   "execution_count": null,
   "metadata": {},
   "outputs": [],
   "source": [
    "\n",
    "print('Trung bình giá tiền của các loại trái cây có xuất xứ tại Ben Tre:', ben_tre_df['Price'].mean())"
   ]
  },
  {
   "cell_type": "code",
   "execution_count": null,
   "metadata": {},
   "outputs": [],
   "source": [
    "# %%\n",
    "import pandas as pd\n",
    "import numpy as np\n",
    "df = pd.read_csv(\"/home/swcyen/DataAna/data/patient_heart_rate.csv\", on_bad_lines='skip')\n",
    "df.head()\n",
    "\n",
    "# %%\n",
    "\n",
    "\n",
    "# %% [markdown]\n",
    "# missing header problem\n",
    "\n",
    "# %%\n",
    "columns_names = ['id','name','age','weight','m0006','m0612','m1218','f0006','f0612','f1218']\n",
    "df = pd.read_csv(\"/home/swcyen/DataAna/data/patient_heart_rate.csv\",on_bad_lines='skip',names = columns_names)\n",
    "print(df)\n",
    "\n",
    "# %% [markdown]\n",
    "# split name into firstname and lastname\n",
    "\n",
    "# %%\n",
    "df[['Firstname','Lastname']] = df['name'].str.split(expand=True)\n",
    "df = df.drop('name', axis= 1)\n",
    "print(df)\n",
    "\n",
    "# %% [markdown]\n",
    "# convert pound to kg\n",
    "\n",
    "# %%\n",
    "weight = df['weight']\n",
    "\n",
    "for i in range(0,len(weight)):\n",
    "    x = str(weight[i])\n",
    "    if 'lbs' in x[-3:]:\n",
    "        x = x[:-3:]\n",
    "        float_x = float(x)\n",
    "        y = int(float_x/2.2)\n",
    "        y = str(y) + 'kgs'\n",
    "        weight[i] = y\n",
    "\n",
    "print(df)\n",
    "\n",
    "# %% [markdown]\n",
    "# remove NaN\n",
    "\n",
    "# %%\n",
    "df.dropna(how='all',inplace= True)\n",
    "print(df)\n",
    "\n",
    "# %% [markdown]\n",
    "# remove dup\n",
    "\n",
    "# %%\n",
    "df = df.drop_duplicates(subset=['Firstname','Lastname','age','weight'])\n",
    "print(df)\n",
    "\n",
    "# %% [markdown]\n",
    "# non-ASCII\n",
    "\n",
    "# %%\n",
    "df['Firstname'].replace({r'[^\\x00-\\x7F]+':''}, inplace=True, regex=True)\n",
    "df['Lastname'].replace({r'[^\\x00-\\x7F]+':''},  inplace=True, regex=True)\n",
    "print(df)\n",
    "\n",
    "# %% [markdown]\n",
    "# remove wrong column\n",
    "\n",
    "# %%\n",
    "df = df.dropna(subset=['age','weight'],how='all')\n",
    "print(df)\n",
    "\n",
    "# %% [markdown]\n",
    "# add column to df\n",
    "\n",
    "# %%\n",
    "df = pd.melt(df,id_vars=['id','age','weight','Firstname', 'Lastname'],value_name=\"Pulserate\",var_name='sex_and_time').sort_values(['id','age','weight','Firstname', 'Lastname'])\n",
    "tmp_df = df['sex_and_time'].str.extract(\"(\\D)(\\d+)(\\d{2})\",expand=True)\n",
    "print(tmp_df)\n",
    "tmp_df.columns = ['sex', 'hours_lower','hours_upper']\n",
    "\n",
    "tmp_df['time'] = tmp_df['hours_lower'] + '-' + tmp_df['hours_upper']\n",
    "\n",
    "df = pd.concat([df, tmp_df],axis=1)\n",
    "\n",
    "df = df.drop(['sex_and_time','hours_lower','hours_upper'], axis=1)\n",
    "df = df.replace('-',np.nan)\n",
    "df = df.dropna()\n",
    "df.to_csv('output.csv',index=False)\n",
    "print(df)\n",
    "\n",
    "# %% [markdown]\n",
    "# add column\n",
    "\n",
    "# %%\n",
    "df['age'].fillna(df['age'].mean(),inplace=True)\n",
    "print(df)\n",
    "\n",
    "\n"
   ]
  },
  {
   "cell_type": "code",
   "execution_count": null,
   "metadata": {},
   "outputs": [],
   "source": [
    "import pandas as pd\n",
    "Bài 1: \n",
    "df = pd.DataFrame({\"Id\":[1,2,3,4],\n",
    "                   \"Name\":[\"Jeo\", \"Henry\", \"Sam\", \"Max\"],\n",
    "                   \"Salary\":[70000,80000,60000,90000],\n",
    "                   \"ManagerId\":[3,4,None,None]})\n",
    "df[\"ManagerId\"].fillna(-1, inplace=True)\n",
    "df\n",
    "\n",
    "# Tạo cột mới 'ManagerSalary' để lưu trữ salary của manager tương ứng với mỗi employee\n",
    "df['ManagerSalary'] = df['ManagerId'].map(df.set_index('Id')['Salary'])\n",
    "\n",
    "# Hiển thị 5 hàng đầu tiên của bảng đã có cột 'ManagerSalary'\n",
    "print(df.head())\n",
    "output = df.loc[df[\"Salary\"] > df[\"ManagerSalary\"]]\n",
    "output\n",
    "# liệt kê ra các employee không có manager:\n",
    "new_df = df.loc[df[\"ManagerId\"] == -1]\n",
    "new_df.rename(columns={\"Name\": \"Employee\"}, inplace = True)\n",
    "new_df[\"Employee\"].to_frame()\n",
    "Bai 2:\n",
    "#Đọc file:\n",
    "employees = pd.read_csv(\"./HW5/employee_02.csv\", header=None, names=[\"Id\", \"Name\", \"Salary\", \"DepartmentId\"])\n",
    "departments = pd.read_csv(\"./HW5/department.csv\", header=None, names=[\"Id\", \"Name\"]) \n",
    "departments\n",
    "# Nhóm các nhân viên theo phòng ban và tính mức lương cao nhất của mỗi nhóm\n",
    "max_salaries = employees.groupby(['DepartmentId'])['Salary'].max().reset_index()\n",
    "employee_max_salaries = employees.merge(max_salaries, on=['DepartmentId', 'Salary'], how='inner')\n",
    "employee_max_salaries\n",
    "# Ghép kết quả với bảng phòng ban\n",
    "result_23 = pd.merge(employee_max_salaries, departments,left_on='DepartmentId', right_on = \"Id\")[['Name_y', 'Name_x', \"Salary\"]]\n",
    "result_23.columns = [\"Department\", \"Employee\", \"Salary\"]\n",
    "result_23"
   ]
  },
  {
   "cell_type": "code",
   "execution_count": null,
   "metadata": {},
   "outputs": [],
   "source": [
    "Phần 1 - Chuẩn bị phân tích dữ liệu\n",
    "\n",
    "#Load thư viện\n",
    "import pandas as pd\n",
    "import numpy as np\n",
    "#Đọc file csv\n",
    "df = pd.read_csv(\"S2_DataFile(2).csv\")\n",
    "#Hiển thị 5 dòng đầu tiên\n",
    "df.head(5)\n",
    "Phần 2 - Tiến trình xử lý dữ liệu\n",
    "Kiểm tra kiểu dữ liệu\n",
    "#Kiểm tra dữ liệu TRAN_TYPE\n",
    "print(df['TRAN_TYPE'].dtypes)\n",
    "#Convert về dạng DateTime\n",
    "df['TRAN_TIME'] = pd.to_datetime(df['TRAN_TIME'],format='%d/%m/%Y %H:%M')\n",
    "In kiểu dữ liệu\n",
    "#In kiểu dữ liệu\n",
    "print(df['TRAN_TIME'].dtype)\n",
    "print(df['AMOUNT'].dtype)\n",
    "#Check tổng quan dữ liệu\n",
    "print(df['AMOUNT'].describe())\n",
    "#Tạo mask để lấy các bản ghi hợp lệ\n",
    "mask = df['AMOUNT'] > 0\n",
    "#Lấy các bản ghi không lỗi\n",
    "df = df[mask]\n",
    "TẠO RA CÁC CỘT DỮ LIỆU MỚI\n",
    "#Tạo cột giờ\n",
    "df['TRAN_HOUR'] = df['TRAN_TIME'].dt.strftime('%H')\n",
    "#Kiểm tra thử\n",
    "print(df[['TRAN_HOUR','TRAN_TIME']])\n",
    "Phần 3 - Phân tích dữ liệu và biểu diễn dữ liệu\n",
    "B I Ể U Đ Ồ P I E V Ề T Ỷ L Ệ S Ô T I Ề N G I A O D Ị C H \n",
    "T R Ê N C Á C K Ê N H\n",
    "#Thực hiện group by channel và tính tổng số tiền giao dịch\n",
    "sum_AMT_byChannel = df.groupby(['CHANNEL_ID'])['AMOUNT'].sum().reset_index(name='SUM_AMT_BY_CHN')\n",
    "print(sum_AMT_byChannel)\n",
    "df_plot = sum_AMT_byChannel\n",
    "df_plot = df_plot.set_index('CHANNEL_ID')\n",
    "print(df_plot)\n",
    "plot = df_plot.plot.pie(y='SUM_AMT_BY_CHN',subplots = True, figsize=(8, 8))\n",
    "#Trang trí và hiển thị biểu đồ\n",
    "plt.title(\"DOANH SỐ GIAO DỊCH THEO KÊNH\")\n",
    "plt.ylabel(\"\")\n",
    "plt.show()\n",
    "B I Ể U Đ Ồ 2 . B I Ể U Đ Ồ C Ộ T V Ề S Ố L Ư Ợ N G V À D O A N H S Ố \n",
    "G I A O D Ị C H T H E O K Ê N H\n",
    "#Vẽ biểu đồ danh doanh số và số lượng giao dịch trên các kênh giao dịch\n",
    "count_byChannel = df.groupby(['CHANNEL_ID']).size().reset_index(name='COUNTS')\n",
    "print(count_byChannel)\n",
    "df_plot2 = sum_AMT_byChannel.merge(count_byChannel, on=['CHANNEL_ID'])\n",
    "print(df_plot2)\n",
    "df_plot2 = df_plot2.set_index('CHANNEL_ID')\n",
    "print(df_plot2)\n",
    "# Quy đổi dữ liệu Doanh số về phần trăm để biểu diễn tính tương quan của dữ liệu\n",
    "max_amt = df_plot2['SUM_AMT_BY_CHN'].max()\n",
    "df_plot2['%_DOANHSO'] =df_plot2['SUM_AMT_BY_CHN']*100/max_amt\n",
    "# Quy đổi dữ liệu Số lượng giao dịch về phần trăm để biểu diễn tính tương quan của dữ liệu\n",
    "max_count = df_plot2['COUNTS'].max()\n",
    "df_plot2['%_SOLUONG'] = df_plot2['COUNTS'] * 100 / max_count\n",
    "print(df_plot2)\n",
    "df_plot2.plot.bar( y=['%_SOLUONG','%_DOANHSO'])\n",
    "plt.title(\"Tỷ lệ doanh số và số lượng giao dịch theo các kênh\", fontsize=22)\n",
    "plt.ylabel('tỷ lệ %')\n",
    "plt.xticks(rotation=0)\n",
    "plt.show()\n",
    "B I Ể U Đ Ồ 3 . S Ố L I Ệ U G I A O D Ị C H T R U N G B Ì N H T R O N G \n",
    "TỪNG G I Ờ T R O N G N G À Y\n",
    "#Vẽ biểu đồ lưu lượng giao dịch các kênh trung bình theo giờ mỗi ngày\n",
    "# Tính số ngày trong dữ liệu\n",
    "number_of_days = (df['TRAN_TIME'].max().date() - df['TRAN_TIME'].min().date()).days\n",
    "print(number_of_days)\n",
    "# Trích ra 2 cột kênh và giờ\n",
    "df = df[['CHANNEL_ID', 'TRAN_HOUR']]\n",
    "# Group và tính số lượng từng kênh trong từng giờ\n",
    "count_by_CNNTime = df.groupby(['CHANNEL_ID','TRAN_HOUR']).size().reset_index(name='COUNTS_CNNTIME')\n",
    "# Áp dung pivot table để xoay dữ liệu\n",
    "df_plot3 = pd.pivot_table(count_by_CNNTime, values='COUNTS_CNNTIME', \n",
    "index=['TRAN_HOUR'], columns=['CHANNEL_ID'])\n",
    "# Xử lý NaN\n",
    "df_plot3['ATM'] = df_plot3['ATM'].fillna(0)\n",
    "df_plot3['INTERNET'] = df_plot3['INTERNET'].fillna(0)\n",
    "df_plot3['MOBILE'] = df_plot3['MOBILE'].fillna(0)\n",
    "# Tính giá trị trung bình theo ngày\n",
    "df_plot3['ATM'] = df_plot3['ATM'] / number_of_days\n",
    "df_plot3['INTERNET'] = df_plot3['INTERNET'] / number_of_days\n",
    "df_plot3['MOBILE'] = df_plot3['MOBILE'] / number_of_days\n",
    "# Vẽ biểu đồ\n",
    "df_plot3.plot(y=['ATM', 'INTERNET', 'MOBILE'], figsize=(12, 6),marker='o')\n",
    "plt.title('Số lượng giao dịch trung bình trong ngày theo giờ')\n",
    "plt.ylabel('Số lượng giao dịch trung bình')\n",
    "plt.xlabel('Giờ giao dịch')\n",
    "plt.show()\n",
    "Phần 4 - Kết luận"
   ]
  }
 ],
 "metadata": {
  "language_info": {
   "name": "python"
  },
  "orig_nbformat": 4
 },
 "nbformat": 4,
 "nbformat_minor": 2
}
